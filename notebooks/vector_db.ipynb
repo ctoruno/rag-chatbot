{
 "cells": [
  {
   "cell_type": "code",
   "execution_count": 1,
   "id": "b6dc8381",
   "metadata": {},
   "outputs": [],
   "source": [
    "import boto3\n",
    "import pandas as pd\n",
    "from io import BytesIO"
   ]
  },
  {
   "cell_type": "code",
   "execution_count": 2,
   "id": "691880a7",
   "metadata": {},
   "outputs": [],
   "source": [
    "country = \"Latvia\"\n",
    "s3_bucket = \"eurovoices-news-articles-data\"\n",
    "batch_size = 100\n",
    "index_name = \"eurovoices-news-articles-vdb\"\n",
    "embbeding_model = \"voyage-3.5\""
   ]
  },
  {
   "cell_type": "code",
   "execution_count": 3,
   "id": "c6a2c07e",
   "metadata": {},
   "outputs": [],
   "source": [
    "s3 = boto3.client(\"s3\")\n",
    "country_data_s3 = s3.get_object(\n",
    "    Bucket = s3_bucket,\n",
    "    Key = f\"{country}_master.parquet.gzip\"\n",
    ")\n",
    "country_data_df = pd.read_parquet(\n",
    "    BytesIO(country_data_s3[\"Body\"].read()),\n",
    "    engine = \"pyarrow\"\n",
    ").drop_duplicates(subset = \"id\")\n",
    "country_data = country_data_df.to_dict(orient=\"records\")"
   ]
  },
  {
   "cell_type": "code",
   "execution_count": 4,
   "id": "58cf4338",
   "metadata": {},
   "outputs": [],
   "source": [
    "import tiktoken\n",
    "from langchain.text_splitter import RecursiveCharacterTextSplitter\n",
    "\n",
    "encoding = tiktoken.encoding_for_model(\"gpt-4o-mini\")\n",
    "\n",
    "splitter = RecursiveCharacterTextSplitter(\n",
    "    chunk_size=400,\n",
    "    chunk_overlap=75,\n",
    "    separators=[\"\\n\\n\", \"\\n\", \". \"]\n",
    ")"
   ]
  },
  {
   "cell_type": "code",
   "execution_count": 5,
   "id": "a2e4c4c7",
   "metadata": {},
   "outputs": [],
   "source": [
    "def prepare_document_for_embedding(doc, country):\n",
    "    id = doc[\"id\"]\n",
    "    text = doc[\"content_trans\"]\n",
    "    text_length = len(encoding.encode(text))\n",
    "    \n",
    "    if text_length <= 500:\n",
    "        chunks = [text]\n",
    "    else:\n",
    "        chunks = splitter.split_text(text)\n",
    "\n",
    "    chunk_data_list = [\n",
    "        {\n",
    "            \"id\": id,\n",
    "            \"text\": chunk.strip(\". \"),\n",
    "            \"metadata\": {\n",
    "                \"chunk_id\" : i,\n",
    "                \"url\" : doc[\"link\"],\n",
    "                \"title\" : doc[\"title_trans\"],\n",
    "                \"source\" : doc[\"domain_url\"],\n",
    "                \"country\" : country,\n",
    "                \"pillar_1\" : doc[\"pillar_1\"],\n",
    "                \"pillar_2\" : doc[\"pillar_2\"],\n",
    "                \"pillar_3\" : doc[\"pillar_3\"],\n",
    "                \"pillar_4\" : doc[\"pillar_4\"],\n",
    "                \"pillar_5\" : doc[\"pillar_5\"],\n",
    "                \"pillar_6\" : doc[\"pillar_6\"],\n",
    "                \"pillar_7\" : doc[\"pillar_7\"],\n",
    "                \"pillar_8\" : doc[\"pillar_8\"],\n",
    "                \"impact_score\" : doc[\"impact_score\"],\n",
    "                \"published_date\" : doc[\"published_date\"],\n",
    "            }\n",
    "        }\n",
    "        for i, chunk in enumerate(chunks)\n",
    "    ]\n",
    "    \n",
    "    return chunk_data_list"
   ]
  },
  {
   "cell_type": "code",
   "execution_count": 6,
   "id": "b1ebd406",
   "metadata": {},
   "outputs": [],
   "source": [
    "processed_chunks = [\n",
    "    prepare_document_for_embedding(doc, country=country) \n",
    "    for doc in country_data\n",
    "]\n",
    "flattened_processed_chunks = [\n",
    "    item \n",
    "    for sublist in processed_chunks \n",
    "    for item in sublist\n",
    "]"
   ]
  },
  {
   "cell_type": "code",
   "execution_count": 37,
   "id": "57d3fdae",
   "metadata": {},
   "outputs": [],
   "source": [
    "import os\n",
    "import voyageai\n",
    "from pinecone import Pinecone, ServerlessSpec\n",
    "from dotenv import load_dotenv\n",
    "\n",
    "load_dotenv()\n",
    "vc = voyageai.Client(os.getenv(\"VOYAGEAI_API_KEY\"))\n",
    "pc = Pinecone(api_key=os.getenv(\"PINECONE_API_KEY\"), pool_threads=30)"
   ]
  },
  {
   "cell_type": "code",
   "execution_count": 8,
   "id": "819a1dbb",
   "metadata": {},
   "outputs": [],
   "source": [
    "if not pc.has_index(index_name):\n",
    "    pc.create_index(\n",
    "        index_name,\n",
    "        dimension = 1024,\n",
    "        spec = ServerlessSpec(\n",
    "            cloud = \"aws\",\n",
    "            region = \"us-east-1\"\n",
    "        ),\n",
    "        metric = \"cosine\"\n",
    "    )"
   ]
  },
  {
   "cell_type": "code",
   "execution_count": null,
   "id": "7d079a32",
   "metadata": {},
   "outputs": [],
   "source": [
    "def embbed_and_ingest(\n",
    "        batch, vc, pc, \n",
    "        country,\n",
    "        index_name=index_name,\n",
    "        embbeding_model=embbeding_model\n",
    "):\n",
    "    ids = [item[\"id\"] for item in batch]\n",
    "    texts = [item[\"text\"] for item in batch]\n",
    "    metadata = [item[\"metadata\"] for item in batch]\n",
    "\n",
    "    embeddings = vc.embed(\n",
    "        texts,\n",
    "        model = embbeding_model,\n",
    "        input_type = \"document\"\n",
    "    ).embeddings\n",
    "\n",
    "    vectors = [\n",
    "        {\"id\": a, \"values\": b, \"metadata\": c} \n",
    "        for a,b,c in zip(ids, embeddings, metadata)\n",
    "    ]\n",
    "\n",
    "    with pc.Index(index_name, pool_threads=30) as index:\n",
    "        async_result = index.upsert(\n",
    "            vectors=vectors, \n",
    "            namespace=\"testing\",\n",
    "            async_req=True\n",
    "        ) \n",
    "\n",
    "    return async_result.get()"
   ]
  },
  {
   "cell_type": "code",
   "execution_count": 14,
   "id": "ff827f15",
   "metadata": {},
   "outputs": [],
   "source": [
    "for i in range(0, len(flattened_processed_chunks), batch_size):\n",
    "    r = embbed_and_ingest(\n",
    "        flattened_processed_chunks[i : i + batch_size], \n",
    "        vc=vc, pc=pc,\n",
    "        country=country,\n",
    "        index_name=index_name\n",
    "    )"
   ]
  }
 ],
 "metadata": {
  "kernelspec": {
   "display_name": "rag-chatbot",
   "language": "python",
   "name": "python3"
  },
  "language_info": {
   "codemirror_mode": {
    "name": "ipython",
    "version": 3
   },
   "file_extension": ".py",
   "mimetype": "text/x-python",
   "name": "python",
   "nbconvert_exporter": "python",
   "pygments_lexer": "ipython3",
   "version": "3.13.2"
  }
 },
 "nbformat": 4,
 "nbformat_minor": 5
}
