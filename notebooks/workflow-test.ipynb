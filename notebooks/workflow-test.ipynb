{
 "cells": [
  {
   "cell_type": "code",
   "execution_count": 1,
   "id": "17cc6435",
   "metadata": {},
   "outputs": [],
   "source": [
    "import os\n",
    "os.chdir(\"..\")"
   ]
  },
  {
   "cell_type": "code",
   "execution_count": 2,
   "id": "cd3e789f",
   "metadata": {},
   "outputs": [],
   "source": [
    "from src.graph.workflow import create_workflow\n",
    "\n",
    "graph = create_workflow()"
   ]
  },
  {
   "cell_type": "markdown",
   "id": "fb10384d",
   "metadata": {},
   "source": [
    "## Testing Tool Calling"
   ]
  },
  {
   "cell_type": "code",
   "execution_count": null,
   "id": "47a36390",
   "metadata": {},
   "outputs": [],
   "source": [
    "result1 = graph.invoke(\n",
    "    {\"messages\": [{\n",
    "        \"role\": \"user\", \n",
    "        \"content\": \"What are the most recent events regarding open government and transparency in France?\"\n",
    "    }]}, \n",
    "    config = {\"configurable\": {\"thread_id\": \"testing-tool-calling\"}}\n",
    ")\n",
    "print(result1['messages'][-1].content)"
   ]
  },
  {
   "cell_type": "code",
   "execution_count": null,
   "id": "1c19f7a1",
   "metadata": {},
   "outputs": [],
   "source": [
    "for x in result1['messages']:\n",
    "    x.pretty_print()"
   ]
  },
  {
   "cell_type": "markdown",
   "id": "3bd23788",
   "metadata": {},
   "source": [
    "## Checking persistance"
   ]
  },
  {
   "cell_type": "code",
   "execution_count": null,
   "id": "157e0b8e",
   "metadata": {},
   "outputs": [],
   "source": [
    "config = {\"configurable\": {\"thread_id\": \"single_session_memory\"}}"
   ]
  },
  {
   "cell_type": "code",
   "execution_count": null,
   "id": "eae1b7c0",
   "metadata": {},
   "outputs": [],
   "source": [
    "result1 = graph.invoke(\n",
    "    {\"messages\": [{\n",
    "        \"role\": \"user\", \n",
    "        \"content\": \"I have visited Paris, Berlin, Rome, and Barcelona. Could you suggest three more destinations in Europe\"\n",
    "    }]}, \n",
    "    config = config\n",
    ")\n",
    "print(result1['messages'][-1].content)"
   ]
  },
  {
   "cell_type": "code",
   "execution_count": null,
   "id": "8d77b595",
   "metadata": {},
   "outputs": [],
   "source": [
    "result2 = graph.invoke(\n",
    "    {\"messages\": [{\"role\": \"user\", \"content\": \"Could you suggest 3 more?\"}]}, \n",
    "    config = config\n",
    ")\n",
    "print(result2['messages'][-1].content)"
   ]
  },
  {
   "cell_type": "code",
   "execution_count": null,
   "id": "9eaa28e6",
   "metadata": {},
   "outputs": [],
   "source": [
    "result3 = graph.invoke(\n",
    "    {\"messages\": [{\"role\": \"user\", \"content\": \"What's the Hagia Sophia?\"}]}, \n",
    "    config = config\n",
    ")\n",
    "print(result3['messages'][-1].content)"
   ]
  },
  {
   "cell_type": "code",
   "execution_count": null,
   "id": "33bcf23e",
   "metadata": {},
   "outputs": [],
   "source": [
    "result4 = graph.invoke(\n",
    "    {\"messages\": [{\"role\": \"user\", \"content\": \"Who built it? When was it built?\"}]}, \n",
    "    config = config\n",
    ")\n",
    "print(result4['messages'][-1].content)"
   ]
  },
  {
   "cell_type": "markdown",
   "id": "43ae1eab",
   "metadata": {},
   "source": [
    "## Visual Graph Tree"
   ]
  },
  {
   "cell_type": "code",
   "execution_count": null,
   "id": "26134949",
   "metadata": {},
   "outputs": [],
   "source": [
    "from IPython.display import Image, display\n",
    "display(Image(graph.get_graph().draw_mermaid_png()))"
   ]
  },
  {
   "cell_type": "markdown",
   "id": "b3c75c12",
   "metadata": {},
   "source": [
    "## Executing Streaming"
   ]
  },
  {
   "cell_type": "code",
   "execution_count": null,
   "id": "bbdce9af",
   "metadata": {},
   "outputs": [],
   "source": [
    "from src.utils.chat_stream import ChatStreamer\n",
    "\n",
    "streamer = ChatStreamer(\n",
    "    app = graph,\n",
    "    config = {\"configurable\": {\"thread_id\": \"testing-streaming\"}}\n",
    ")\n",
    "\n",
    "streamer.stream_response(\n",
    "    \"What are the most recent events regarding open government and transparency?\"\n",
    ")"
   ]
  }
 ],
 "metadata": {
  "kernelspec": {
   "display_name": "rag-chatbot",
   "language": "python",
   "name": "python3"
  },
  "language_info": {
   "codemirror_mode": {
    "name": "ipython",
    "version": 3
   },
   "file_extension": ".py",
   "mimetype": "text/x-python",
   "name": "python",
   "nbconvert_exporter": "python",
   "pygments_lexer": "ipython3",
   "version": "3.13.2"
  }
 },
 "nbformat": 4,
 "nbformat_minor": 5
}
